{
 "cells": [
  {
   "cell_type": "code",
   "execution_count": 3,
   "id": "fc29a2e3",
   "metadata": {},
   "outputs": [
    {
     "name": "stdout",
     "output_type": "stream",
     "text": [
      "시리즈 출력: \n",
      "---------------\n",
      "피자    17000\n",
      "치킨    18000\n",
      "콜라     1000\n",
      "맥주     5000\n",
      "dtype: int64\n",
      "시리즈의 값: [17000 18000  1000  5000]\n",
      "시리즈의 인덱스: Index(['피자', '치킨', '콜라', '맥주'], dtype='object')\n"
     ]
    }
   ],
   "source": [
    "import pandas as pd\n",
    "\n",
    "# Series 클래스는 1차원 배열의 값과 인덱스를 갖는다.\n",
    "sr = pd.Series([17000, 18000, 1000, 5000], \n",
    "               index=[\"피자\", \"치킨\", \"콜라\", \"맥주\"])\n",
    "print(\"시리즈 출력: \")\n",
    "print(\"-\"*15)\n",
    "print(sr)\n",
    "\n",
    "# values 속성과 index 속성으로 값과 인덱스 목록을 반환한다.\n",
    "print(\"시리즈의 값: {}\".format(sr.values))\n",
    "print(\"시리즈의 인덱스: {}\".format(sr.index))\n"
   ]
  },
  {
   "cell_type": "code",
   "execution_count": 7,
   "id": "df62f6c5",
   "metadata": {},
   "outputs": [
    {
     "name": "stdout",
     "output_type": "stream",
     "text": [
      "데이터프레임 출력: \n",
      "---------------\n",
      "     Column1 Column2 Column3\n",
      "Row1    r1c1    r1c2    r1c3\n",
      "Row2    r2c1    r2c2    r2c3\n",
      "Row3    r3c1    r3c2    r3c3\n",
      "데이터프레임의 인덱스: Index(['Row1', 'Row2', 'Row3'], dtype='object')\n",
      "데이터프레임의 열: Index(['Column1', 'Column2', 'Column3'], dtype='object')\n",
      "데이터프레임의 값: \n",
      "---------------\n",
      "[['r1c1' 'r1c2' 'r1c3']\n",
      " ['r2c1' 'r2c2' 'r2c3']\n",
      " ['r3c1' 'r3c2' 'r3c3']]\n"
     ]
    }
   ],
   "source": [
    "import pandas as pd\n",
    "\n",
    "# DataFrame 클래스는 2차원 리스트를 매개변수로 전달한다.\n",
    "# index 매개변수는 행 인덱스를, columns 매개변수는 열 인덱스\n",
    "values = [[\"r1c1\", \"r1c2\", \"r1c3\"], \n",
    "          [\"r2c1\", \"r2c2\", \"r2c3\"], \n",
    "          [\"r3c1\", \"r3c2\", \"r3c3\"]]\n",
    "index = [\"Row1\", \"Row2\", \"Row3\"]\n",
    "columns = [\"Column1\", \"Column2\", \"Column3\"]\n",
    "\n",
    "df = pd.DataFrame(values, index=index, columns=columns)\n",
    "\n",
    "print(\"데이터프레임 출력: \")\n",
    "print(\"-\"*15)\n",
    "print(df)\n",
    "\n",
    "# index 속성과 columns 속성, values 속성으로\n",
    "# 행 인덱스(이하 인덱스), 열 인덱스(이하 열), 값을 반환\n",
    "\n",
    "print(\"데이터프레임의 인덱스: {}\".format(df.index))\n",
    "print(\"데이터프레임의 열: {}\".format(df.columns))\n",
    "print(\"데이터프레임의 값: \")\n",
    "print(\"-\"*15)\n",
    "print(df.values)"
   ]
  },
  {
   "cell_type": "code",
   "execution_count": 9,
   "id": "03c169c5",
   "metadata": {},
   "outputs": [
    {
     "name": "stdout",
     "output_type": "stream",
     "text": [
      "      0     1      2\n",
      "0  1000   스티브  90.72\n",
      "1  1001   제임스  78.09\n",
      "2  1002    도연  98.43\n",
      "3  1003  Jane  64.19\n",
      "     학번    이름     점수\n",
      "0  1000   스티브  90.72\n",
      "1  1001   제임스  78.09\n",
      "2  1002    도연  98.43\n",
      "3  1003  Jane  64.19\n"
     ]
    }
   ],
   "source": [
    "import pandas as pd\n",
    "\n",
    "# 데이터프레임을 이중 리스트로 생성하는 경우\n",
    "data = [\n",
    "    [\"1000\", \"스티브\", 90.72],\n",
    "    [\"1001\", \"제임스\", 78.09],\n",
    "    [\"1002\", \"도연\", 98.43],\n",
    "    [\"1003\", \"Jane\", 64.19],\n",
    "]\n",
    "\n",
    "df = pd.DataFrame(data)\n",
    "print(df)\n",
    "\n",
    "# 생성된 데이터프레임에 열을 지정할 수 있다.\n",
    "df.columns = [\"학번\", \"이름\", \"점수\"]\n",
    "print(df)"
   ]
  },
  {
   "cell_type": "code",
   "execution_count": 10,
   "id": "3f261462",
   "metadata": {},
   "outputs": [
    {
     "name": "stdout",
     "output_type": "stream",
     "text": [
      "     학번      이름     점수\n",
      "0  1000   Steve  90.72\n",
      "1  1001   James  78.09\n",
      "2  1002  Doyeon  98.43\n",
      "3  1003    Jane  64.19\n"
     ]
    }
   ],
   "source": [
    "import pandas as pd\n",
    "\n",
    "# 데이터프레임의 딕셔너리로 생성하는 경우\n",
    "\n",
    "data = {\n",
    "    \"학번\": [1000, 1001, 1002, 1003],\n",
    "    \"이름\": [\"Steve\", \"James\", \"Doyeon\", \"Jane\"],\n",
    "    \"점수\": [90.72, 78.09, 98.43, 64.19],\n",
    "}\n",
    "\n",
    "df = pd.DataFrame(data)\n",
    "print(df)"
   ]
  },
  {
   "cell_type": "code",
   "execution_count": 12,
   "id": "c60147ca",
   "metadata": {},
   "outputs": [
    {
     "name": "stdout",
     "output_type": "stream",
     "text": [
      "     학번     이름     점수\n",
      "0  1000  Steve  90.72\n",
      "1  1001  James  78.09\n",
      "     학번      이름     점수\n",
      "1  1001   James  78.09\n",
      "2  1002  Doyeon  98.43\n",
      "3  1003    Jane  64.19\n",
      "0    1000\n",
      "1    1001\n",
      "2    1002\n",
      "3    1003\n",
      "Name: 학번, dtype: int64\n"
     ]
    }
   ],
   "source": [
    "import pandas as pd\n",
    "\n",
    "# 데이터프레임을 조회\n",
    "\n",
    "data = {\n",
    "    \"학번\": [1000, 1001, 1002, 1003],\n",
    "    \"이름\": [\"Steve\", \"James\", \"Doyeon\", \"Jane\"],\n",
    "    \"점수\": [90.72, 78.09, 98.43, 64.19],\n",
    "}\n",
    "\n",
    "df = pd.DataFrame(data)\n",
    "\n",
    "print(df.head(2))\n",
    "print(df.tail(3))\n",
    "print(df[\"학번\"])"
   ]
  },
  {
   "cell_type": "code",
   "execution_count": 15,
   "id": "0c07f8c2",
   "metadata": {},
   "outputs": [
    {
     "name": "stdout",
     "output_type": "stream",
     "text": [
      "     학번           이름   성적\n",
      "0  1000      \"James\"   91\n",
      "1  1001      \"Sammy\"   93\n",
      "2  1002      \"Steve\"   24\n",
      "3  1003   \"Jonathan\"   14\n",
      "4  1004      \"Angel\"   52\n",
      "RangeIndex(start=0, stop=5, step=1)\n"
     ]
    }
   ],
   "source": [
    "import pandas as pd\n",
    "\n",
    "# Pandas는 외부 데이터(CSV, 텍스트, Excel, SQL, HTML, JSON 등)\n",
    "# 를 읽을 수 있다. 다음은 read_csv로 csv 파일을 읽는다.\n",
    "\n",
    "df = pd.read_csv(\"example.csv\")\n",
    "print(df)\n",
    "# csv로 불러온 경우 인덱스가 자동 부여됨\n",
    "print(df.index)\n"
   ]
  },
  {
   "cell_type": "code",
   "execution_count": null,
   "id": "c7483bf9",
   "metadata": {},
   "outputs": [],
   "source": []
  }
 ],
 "metadata": {
  "kernelspec": {
   "display_name": "Python 3 (ipykernel)",
   "language": "python",
   "name": "python3"
  },
  "language_info": {
   "codemirror_mode": {
    "name": "ipython",
    "version": 3
   },
   "file_extension": ".py",
   "mimetype": "text/x-python",
   "name": "python",
   "nbconvert_exporter": "python",
   "pygments_lexer": "ipython3",
   "version": "3.11.4"
  }
 },
 "nbformat": 4,
 "nbformat_minor": 5
}
