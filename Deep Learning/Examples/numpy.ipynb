{
 "cells": [
  {
   "cell_type": "code",
   "execution_count": 5,
   "id": "bbfc423c",
   "metadata": {},
   "outputs": [
    {
     "name": "stdout",
     "output_type": "stream",
     "text": [
      "1차원 배열(벡터): \n",
      "---------------\n",
      "[1 2 3 4 5]\n",
      "2차원 배열(행렬): \n",
      "---------------\n",
      "[[10 20 30]\n",
      " [60 70 80]]\n",
      "vec과 mat의 축(차원): \n",
      "1 2\n",
      "vec과 mat의 크기(값의 수): \n",
      "(5,) (2, 3)\n"
     ]
    }
   ],
   "source": [
    "import numpy as np\n",
    "\n",
    "# numpy의 ndarray 클래스는 np.array()로 생성한다.\n",
    "\n",
    "# 1차원 배열\n",
    "vec = np.array([1, 2, 3, 4, 5])\n",
    "print(\"1차원 배열(벡터): \")\n",
    "print(\"-\"*15)\n",
    "print(vec)\n",
    "# 2차원 배열\n",
    "mat = np.array([[10, 20, 30], [60, 70, 80]])\n",
    "print(\"2차원 배열(행렬): \")\n",
    "print(\"-\"*15)\n",
    "print(mat)\n",
    "\n",
    "# numpy에는 축과 크기라는 개념이 존재한다.\n",
    "# ndim 속성으로 축을 반환하며, 차원을 의미한다.\n",
    "# shape 속성으로 크기를 반환하며, 값의 수를 의미한다.\n",
    "\n",
    "print(\"vec과 mat의 축(차원): \")\n",
    "print(vec.ndim, mat.ndim)\n",
    "print(\"vec과 mat의 크기(값의 수): \")\n",
    "print(vec.shape, mat.shape)"
   ]
  },
  {
   "cell_type": "code",
   "execution_count": 8,
   "id": "ec51fcc3",
   "metadata": {},
   "outputs": [
    {
     "name": "stdout",
     "output_type": "stream",
     "text": [
      "np.zeros((2, 3))\n",
      "[[0. 0. 0.]\n",
      " [0. 0. 0.]]\n",
      "---------------\n",
      "np.ones((2, 3))\n",
      "[[1. 1. 1.]\n",
      " [1. 1. 1.]]\n",
      "---------------\n",
      "np.full((2, 3), 7)\n",
      "[[7 7 7]\n",
      " [7 7 7]]\n"
     ]
    }
   ],
   "source": [
    "import numpy as np\n",
    "\n",
    "# ndarray 클래스는 다양한 형태로 초기화(Initialize)가 가능\n",
    "\n",
    "# np.zeros((축, 열))로 모든 값이 0인 ndarray\n",
    "zero_mat = np.zeros((2, 3))\n",
    "print(\"np.zeros((2, 3))\")\n",
    "print(zero_mat)\n",
    "\n",
    "print(\"-\"*15)\n",
    "# np.ones((축, 열))로 모든 값이 1인 ndarray\n",
    "one_mat = np.ones((2, 3))\n",
    "print(\"np.ones((2, 3))\")\n",
    "print(one_mat)\n",
    "\n",
    "print(\"-\"*15)\n",
    "# np.full((축, 열), 지정값)로 모든 값을 지정값인 ndarray\n",
    "same_value_mat = np.full((2,3), 7)\n",
    "print(\"np.full((2, 3), 7)\")\n",
    "print(same_value_mat)"
   ]
  },
  {
   "cell_type": "code",
   "execution_count": 10,
   "id": "77b48fb4",
   "metadata": {},
   "outputs": [
    {
     "name": "stdout",
     "output_type": "stream",
     "text": [
      "np.eye(3)\n",
      "[[1. 0. 0.]\n",
      " [0. 1. 0.]\n",
      " [0. 0. 1.]]\n",
      "---------------\n",
      "np.random.random((2, 3))\n",
      "[[0.56562299 0.85872463 0.45698615]\n",
      " [0.1932738  0.73458838 0.57390982]]\n"
     ]
    }
   ],
   "source": [
    "import numpy as np\n",
    "\n",
    "# np.eye(행)로 대각선 값이 1이고 나머지가 0인 2차원 ndarray\n",
    "# 또는 행렬의 단위행렬 I\n",
    "\n",
    "eye_mat = np.eye(3)\n",
    "print(\"np.eye(3)\")\n",
    "print(eye_mat)\n",
    "\n",
    "print(\"-\"*15)\n",
    "# np.random.random((축, 열))로 임의의 값을 가지는 ndarray\n",
    "random_mat = np.random.random((2, 3))\n",
    "print(\"np.random.random((2, 3))\")\n",
    "print(random_mat)"
   ]
  },
  {
   "cell_type": "code",
   "execution_count": 13,
   "id": "b29d9be6",
   "metadata": {},
   "outputs": [
    {
     "name": "stdout",
     "output_type": "stream",
     "text": [
      "np.arange(10)\n",
      "[0 1 2 3 4 5 6 7 8 9]\n",
      "np.arange(1, 10, 2)\n",
      "[1 3 5 7 9]\n",
      "---------------\n",
      "np.array(np.arange(30)).reshape((5, 6))\n",
      "[[ 0  1  2  3  4  5]\n",
      " [ 6  7  8  9 10 11]\n",
      " [12 13 14 15 16 17]\n",
      " [18 19 20 21 22 23]\n",
      " [24 25 26 27 28 29]]\n"
     ]
    }
   ],
   "source": [
    "import numpy as np\n",
    "\n",
    "# np.arange(값)로 0부터 값-1까지의 값을 가지는 nparray\n",
    "# np.arange(시작, 끝, 단계)로 시작부터 끝-1까지 단계값 씩 증가\n",
    "\n",
    "range_vec = np.arange(10)\n",
    "print(\"np.arange(10)\")\n",
    "print(range_vec)\n",
    "range_n_step_vec = np.arange(1, 10, 2)\n",
    "print(\"np.arange(1, 10, 2)\")\n",
    "print(range_n_step_vec)\n",
    "\n",
    "print(\"-\"*15)\n",
    "\n",
    "# np.reshape()는 내부 데이터는 변경하지 않고 배열의 구조를 바꿈\n",
    "\n",
    "reshape_mat = np.array(np.arange(30)).reshape((5, 6))\n",
    "print(\"np.array(np.arange(30)).reshape((5, 6))\")\n",
    "print(reshape_mat)"
   ]
  },
  {
   "cell_type": "code",
   "execution_count": 14,
   "id": "72c1aa4d",
   "metadata": {},
   "outputs": [
    {
     "name": "stdout",
     "output_type": "stream",
     "text": [
      "[[1 2 3]\n",
      " [4 5 6]]\n",
      "첫번째 행: [1 2 3]\n",
      "두번째 열:  [2 5]\n"
     ]
    }
   ],
   "source": [
    "import numpy as np\n",
    "\n",
    "# ndarray 클래스는 슬라이싱이 가능\n",
    "\n",
    "mat = np.array([[1, 2, 3], [4, 5, 6]])\n",
    "print(mat)\n",
    "print(\"첫번째 행:\", mat[0, :])\n",
    "print(\"두번째 열: \",mat[:, 1])"
   ]
  },
  {
   "cell_type": "code",
   "execution_count": 22,
   "id": "25228154",
   "metadata": {},
   "outputs": [
    {
     "name": "stdout",
     "output_type": "stream",
     "text": [
      "x: [1 2 3]\n",
      "y: [4 5 6]\n",
      "x+y = [5 7 9]\n",
      "x-y = [-3 -3 -3]\n",
      "x*5 = [ 5 10 15]\n",
      "y/2 = [2.  2.5 3. ]\n"
     ]
    }
   ],
   "source": [
    "import numpy as np\n",
    "\n",
    "# numpy 연산\n",
    "\n",
    "x = np.array([1, 2, 3])\n",
    "y = np.array([4, 5, 6])\n",
    "print(\"x:\", x)\n",
    "print(\"y:\", y)\n",
    "print(\"x+y =\", x+y)\n",
    "print(\"x-y =\", x-y)\n",
    "print(\"x*5 =\", x*5)\n",
    "print(\"y/2 =\", y/2)"
   ]
  },
  {
   "cell_type": "code",
   "execution_count": null,
   "id": "f0cd08f5",
   "metadata": {},
   "outputs": [],
   "source": []
  }
 ],
 "metadata": {
  "kernelspec": {
   "display_name": "Python 3 (ipykernel)",
   "language": "python",
   "name": "python3"
  },
  "language_info": {
   "codemirror_mode": {
    "name": "ipython",
    "version": 3
   },
   "file_extension": ".py",
   "mimetype": "text/x-python",
   "name": "python",
   "nbconvert_exporter": "python",
   "pygments_lexer": "ipython3",
   "version": "3.11.4"
  }
 },
 "nbformat": 4,
 "nbformat_minor": 5
}
