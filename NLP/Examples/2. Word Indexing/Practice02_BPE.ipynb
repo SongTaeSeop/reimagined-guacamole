{
 "cells": [
  {
   "cell_type": "code",
   "execution_count": 1,
   "metadata": {},
   "outputs": [],
   "source": [
    "import re, collections\n",
    "\n",
    "# 현재 dictionary 내 서브워드 pair들의 빈도수 카운트하는 함수\n",
    "\n",
    "def get_freq(dictionary):\n",
    "    pairs = collections.defaultdict(int)\n",
    "\n",
    "    for word, freq in dictionary.items():\n",
    "        symbols = word.split()\n",
    "\n",
    "        for i in range(len(symbols)-1):\n",
    "            pairs[symbols[i], symbols[i+1]] += freq\n",
    "\n",
    "    print(\"Frequency of the current pairs\", dict(pairs))\n",
    "\n",
    "    return pairs"
   ]
  },
  {
   "cell_type": "code",
   "execution_count": 2,
   "metadata": {},
   "outputs": [],
   "source": [
    "# target pair를 기준으로 input_dict 내 단어들을 통합하여 output_dict를 반환하는 함수\n",
    "\n",
    "def merge_dictionary(target_pair, input_dict):\n",
    "    output_dict = {}\n",
    "\n",
    "    bigram = re.escape(' '.join(target_pair))\n",
    "    p = re.compile(r'(?<!\\S)' + bigram + r'(?!\\S)')\n",
    "\n",
    "    for word in input_dict:\n",
    "        w_out = p.sub(''.join(target_pair), word)\n",
    "        output_dict[w_out] = input_dict[word]\n",
    "\n",
    "    return output_dict"
   ]
  },
  {
   "cell_type": "code",
   "execution_count": 3,
   "metadata": {},
   "outputs": [
    {
     "name": "stdout",
     "output_type": "stream",
     "text": [
      "1번째 BPE\n",
      "Frequency of the current pairs {('l', 'o'): 7, ('o', 'w'): 7, ('w', 'e'): 8, ('e', 'r'): 2, ('n', 'e'): 6, ('e', 'w'): 6, ('e', 's'): 9, ('s', 't'): 9, ('w', 'i'): 3, ('i', 'd'): 3, ('d', 'e'): 3}\n",
      "new merge: ('e', 's')\n",
      "dictionary: {'l o w': 5, 'l o w e r': 2, 'n e w es t': 6, 'w i d es t': 3}\n",
      "vocabulary: ['l', 'o', 'w', 'e', 'r', 'n', 's', 't', 'w', 'i', 'es']\n",
      "2번째 BPE\n",
      "Frequency of the current pairs {('l', 'o'): 7, ('o', 'w'): 7, ('w', 'e'): 2, ('e', 'r'): 2, ('n', 'e'): 6, ('e', 'w'): 6, ('w', 'es'): 6, ('es', 't'): 9, ('w', 'i'): 3, ('i', 'd'): 3, ('d', 'es'): 3}\n",
      "new merge: ('es', 't')\n",
      "dictionary: {'l o w': 5, 'l o w e r': 2, 'n e w est': 6, 'w i d est': 3}\n",
      "vocabulary: ['l', 'o', 'w', 'e', 'r', 'n', 's', 't', 'w', 'i', 'es', 'est']\n",
      "3번째 BPE\n",
      "Frequency of the current pairs {('l', 'o'): 7, ('o', 'w'): 7, ('w', 'e'): 2, ('e', 'r'): 2, ('n', 'e'): 6, ('e', 'w'): 6, ('w', 'est'): 6, ('w', 'i'): 3, ('i', 'd'): 3, ('d', 'est'): 3}\n",
      "new merge: ('l', 'o')\n",
      "dictionary: {'lo w': 5, 'lo w e r': 2, 'n e w est': 6, 'w i d est': 3}\n",
      "vocabulary: ['l', 'o', 'w', 'e', 'r', 'n', 's', 't', 'w', 'i', 'es', 'est', 'lo']\n",
      "4번째 BPE\n",
      "Frequency of the current pairs {('lo', 'w'): 7, ('w', 'e'): 2, ('e', 'r'): 2, ('n', 'e'): 6, ('e', 'w'): 6, ('w', 'est'): 6, ('w', 'i'): 3, ('i', 'd'): 3, ('d', 'est'): 3}\n",
      "new merge: ('lo', 'w')\n",
      "dictionary: {'low': 5, 'low e r': 2, 'n e w est': 6, 'w i d est': 3}\n",
      "vocabulary: ['l', 'o', 'w', 'e', 'r', 'n', 's', 't', 'w', 'i', 'es', 'est', 'lo', 'low']\n",
      "5번째 BPE\n",
      "Frequency of the current pairs {('low', 'e'): 2, ('e', 'r'): 2, ('n', 'e'): 6, ('e', 'w'): 6, ('w', 'est'): 6, ('w', 'i'): 3, ('i', 'd'): 3, ('d', 'est'): 3}\n",
      "new merge: ('n', 'e')\n",
      "dictionary: {'low': 5, 'low e r': 2, 'ne w est': 6, 'w i d est': 3}\n",
      "vocabulary: ['l', 'o', 'w', 'e', 'r', 'n', 's', 't', 'w', 'i', 'es', 'est', 'lo', 'low', 'ne']\n",
      "6번째 BPE\n",
      "Frequency of the current pairs {('low', 'e'): 2, ('e', 'r'): 2, ('ne', 'w'): 6, ('w', 'est'): 6, ('w', 'i'): 3, ('i', 'd'): 3, ('d', 'est'): 3}\n",
      "new merge: ('ne', 'w')\n",
      "dictionary: {'low': 5, 'low e r': 2, 'new est': 6, 'w i d est': 3}\n",
      "vocabulary: ['l', 'o', 'w', 'e', 'r', 'n', 's', 't', 'w', 'i', 'es', 'est', 'lo', 'low', 'ne', 'new']\n",
      "7번째 BPE\n",
      "Frequency of the current pairs {('low', 'e'): 2, ('e', 'r'): 2, ('new', 'est'): 6, ('w', 'i'): 3, ('i', 'd'): 3, ('d', 'est'): 3}\n",
      "new merge: ('new', 'est')\n",
      "dictionary: {'low': 5, 'low e r': 2, 'newest': 6, 'w i d est': 3}\n",
      "vocabulary: ['l', 'o', 'w', 'e', 'r', 'n', 's', 't', 'w', 'i', 'es', 'est', 'lo', 'low', 'ne', 'new', 'newest']\n",
      "8번째 BPE\n",
      "Frequency of the current pairs {('low', 'e'): 2, ('e', 'r'): 2, ('w', 'i'): 3, ('i', 'd'): 3, ('d', 'est'): 3}\n",
      "new merge: ('w', 'i')\n",
      "dictionary: {'low': 5, 'low e r': 2, 'newest': 6, 'wi d est': 3}\n",
      "vocabulary: ['l', 'o', 'w', 'e', 'r', 'n', 's', 't', 'w', 'i', 'es', 'est', 'lo', 'low', 'ne', 'new', 'newest', 'wi']\n",
      "9번째 BPE\n",
      "Frequency of the current pairs {('low', 'e'): 2, ('e', 'r'): 2, ('wi', 'd'): 3, ('d', 'est'): 3}\n",
      "new merge: ('wi', 'd')\n",
      "dictionary: {'low': 5, 'low e r': 2, 'newest': 6, 'wid est': 3}\n",
      "vocabulary: ['l', 'o', 'w', 'e', 'r', 'n', 's', 't', 'w', 'i', 'es', 'est', 'lo', 'low', 'ne', 'new', 'newest', 'wi', 'wid']\n",
      "10번째 BPE\n",
      "Frequency of the current pairs {('low', 'e'): 2, ('e', 'r'): 2, ('wid', 'est'): 3}\n",
      "new merge: ('wid', 'est')\n",
      "dictionary: {'low': 5, 'low e r': 2, 'newest': 6, 'widest': 3}\n",
      "vocabulary: ['l', 'o', 'w', 'e', 'r', 'n', 's', 't', 'w', 'i', 'es', 'est', 'lo', 'low', 'ne', 'new', 'newest', 'wi', 'wid', 'widest']\n"
     ]
    }
   ],
   "source": [
    "if __name__ == '__main__':\n",
    "    num_iter = 10\n",
    "    dictionary = {'l o w': 5, \n",
    "                  'l o w e r': 2,\n",
    "                  'n e w e s t': 6,\n",
    "                  'w i d e s t': 3\n",
    "                }\n",
    "    vocab = [\"l\", \"o\", \"w\", \"e\", \"r\", \"n\", \"s\", \"t\", \"w\", \"i\"]\n",
    "\n",
    "    for i in range(num_iter):\n",
    "        print(f\"{i+1}번째 BPE\")\n",
    "        pairs = get_freq(dictionary)\n",
    "        best = max(pairs, key=pairs.get)\n",
    "        dictionary = merge_dictionary(best, dictionary)\n",
    "        vocab.append(\"\".join(best))\n",
    "        \n",
    "        \n",
    "        print(f\"new merge: {best}\")\n",
    "        print(f\"dictionary: {dictionary}\")\n",
    "        print(f\"vocabulary: {vocab}\")"
   ]
  },
  {
   "cell_type": "code",
   "execution_count": null,
   "metadata": {},
   "outputs": [],
   "source": []
  }
 ],
 "metadata": {
  "kernelspec": {
   "display_name": "Python 3",
   "language": "python",
   "name": "python3"
  },
  "language_info": {
   "codemirror_mode": {
    "name": "ipython",
    "version": 3
   },
   "file_extension": ".py",
   "mimetype": "text/x-python",
   "name": "python",
   "nbconvert_exporter": "python",
   "pygments_lexer": "ipython3",
   "version": "3.8.11"
  },
  "orig_nbformat": 4
 },
 "nbformat": 4,
 "nbformat_minor": 2
}
