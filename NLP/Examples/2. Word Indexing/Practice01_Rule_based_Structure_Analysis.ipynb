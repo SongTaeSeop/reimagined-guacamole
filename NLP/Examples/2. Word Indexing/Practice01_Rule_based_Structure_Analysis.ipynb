{
 "cells": [
  {
   "cell_type": "code",
   "execution_count": 1,
   "metadata": {},
   "outputs": [],
   "source": [
    "import nltk"
   ]
  },
  {
   "cell_type": "code",
   "execution_count": 2,
   "metadata": {},
   "outputs": [],
   "source": [
    "grammar = nltk.CFG.fromstring(\"\"\"\n",
    "                            S -> NP VP\n",
    "                            NP -> NN XSN JK | NN JK\n",
    "                            VP -> NP VP | VV EP EF\n",
    "                            NN -> '아이' | '케이크'\n",
    "                            XSN -> '들'\n",
    "                            JK -> '이' | '를'\n",
    "                            VV -> '먹'\n",
    "                            EP -> '었'\n",
    "                            EF -> '다'\n",
    "                            \"\"\")"
   ]
  },
  {
   "cell_type": "code",
   "execution_count": 3,
   "metadata": {},
   "outputs": [
    {
     "name": "stdout",
     "output_type": "stream",
     "text": [
      "(S\n",
      "  (NP (NN 아이) (XSN 들) (JK 이))\n",
      "  (VP (NP (NN 케이크) (JK 를)) (VP (VV 먹) (EP 었) (EF 다))))\n"
     ]
    }
   ],
   "source": [
    "parser = nltk.ChartParser(grammar)\n",
    "sent = ['아이', '들', '이', '케이크', '를', '먹', '었', '다']\n",
    "\n",
    "for tree in parser.parse(sent):\n",
    "  print(tree)"
   ]
  },
  {
   "cell_type": "code",
   "execution_count": null,
   "metadata": {},
   "outputs": [],
   "source": []
  }
 ],
 "metadata": {
  "kernelspec": {
   "display_name": "Python 3",
   "language": "python",
   "name": "python3"
  },
  "language_info": {
   "codemirror_mode": {
    "name": "ipython",
    "version": 3
   },
   "file_extension": ".py",
   "mimetype": "text/x-python",
   "name": "python",
   "nbconvert_exporter": "python",
   "pygments_lexer": "ipython3",
   "version": "3.8.11"
  },
  "orig_nbformat": 4
 },
 "nbformat": 4,
 "nbformat_minor": 2
}
