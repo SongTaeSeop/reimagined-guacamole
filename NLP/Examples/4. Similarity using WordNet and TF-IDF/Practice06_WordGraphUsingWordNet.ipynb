{
 "cells": [
  {
   "cell_type": "code",
   "execution_count": 3,
   "metadata": {},
   "outputs": [
    {
     "name": "stdout",
     "output_type": "stream",
     "text": [
      "[Synset('dog.n.01'), Synset('frump.n.01'), Synset('dog.n.03'), Synset('cad.n.01'), Synset('frank.n.02'), Synset('pawl.n.01'), Synset('andiron.n.01'), Synset('chase.v.01')]\n",
      "[Synset('desk.n.01')]\n"
     ]
    },
    {
     "name": "stderr",
     "output_type": "stream",
     "text": [
      "[nltk_data] Downloading package wordnet to /home/user/nltk_data...\n",
      "[nltk_data]   Package wordnet is already up-to-date!\n",
      "[nltk_data] Downloading package omw-1.4 to /home/user/nltk_data...\n",
      "[nltk_data]   Package omw-1.4 is already up-to-date!\n"
     ]
    }
   ],
   "source": [
    "import nltk\n",
    "from nltk.corpus import wordnet as wn\n",
    "# %%\n",
    "nltk.download('wordnet')\n",
    "nltk.download('omw-1.4')\n",
    "#%%\n",
    "print(wn.synsets('dog'))\n",
    "print(wn.synsets('desk'))"
   ]
  },
  {
   "cell_type": "code",
   "execution_count": 4,
   "metadata": {},
   "outputs": [
    {
     "name": "stdout",
     "output_type": "stream",
     "text": [
      "[0-th path]\n",
      "Synset('entity.n.01')\n",
      "Synset('physical_entity.n.01')\n",
      "Synset('causal_agent.n.01')\n",
      "Synset('person.n.01')\n",
      "Synset('adult.n.01')\n",
      "Synset('man.n.01')\n",
      "\n",
      "\n",
      "[1-th path]\n",
      "Synset('entity.n.01')\n",
      "Synset('physical_entity.n.01')\n",
      "Synset('object.n.01')\n",
      "Synset('whole.n.02')\n",
      "Synset('living_thing.n.01')\n",
      "Synset('organism.n.01')\n",
      "Synset('person.n.01')\n",
      "Synset('adult.n.01')\n",
      "Synset('man.n.01')\n",
      "\n",
      "\n",
      "[2-th path]\n",
      "Synset('entity.n.01')\n",
      "Synset('physical_entity.n.01')\n",
      "Synset('causal_agent.n.01')\n",
      "Synset('person.n.01')\n",
      "Synset('male.n.02')\n",
      "Synset('man.n.01')\n",
      "\n",
      "\n",
      "[3-th path]\n",
      "Synset('entity.n.01')\n",
      "Synset('physical_entity.n.01')\n",
      "Synset('object.n.01')\n",
      "Synset('whole.n.02')\n",
      "Synset('living_thing.n.01')\n",
      "Synset('organism.n.01')\n",
      "Synset('person.n.01')\n",
      "Synset('male.n.02')\n",
      "Synset('man.n.01')\n",
      "\n",
      "\n"
     ]
    }
   ],
   "source": [
    "# 단어의 관계 그래프 확인\n",
    "man = wn.synset('man.n.01')\n",
    "\n",
    "for i, path in enumerate(man.hypernym_paths()):\n",
    "    print(f\"[{i}-th path]\")\n",
    "    \n",
    "    for relation in path:\n",
    "        print(relation)\n",
    "        \n",
    "    print(\"\\n\")"
   ]
  },
  {
   "cell_type": "code",
   "execution_count": 5,
   "metadata": {},
   "outputs": [
    {
     "name": "stdout",
     "output_type": "stream",
     "text": [
      "man vs man similarity: 1.0\n",
      "man vs boy similarity: 0.3333333333333333\n",
      "man vs girl similarity: 0.25\n",
      "man vs woman similarity: 0.3333333333333333\n",
      "boy vs girl similarity: 0.16666666666666666\n",
      "boy vs woman similarity: 0.2\n",
      "girl vs woman similarity: 0.5\n"
     ]
    }
   ],
   "source": [
    "# 단어간 유사도 계산\n",
    "man = wn.synset('man.n.01')\n",
    "boy = wn.synset('boy.n.01')\n",
    "girl = wn.synset('girl.n.01')\n",
    "woman = wn.synset('woman.n.01')\n",
    "\n",
    "print(f\"man vs man similarity: {man.path_similarity(man)}\")\n",
    "print(f\"man vs boy similarity: {man.path_similarity(boy)}\")\n",
    "print(f\"man vs girl similarity: {man.path_similarity(girl)}\")\n",
    "print(f\"man vs woman similarity: {man.path_similarity(woman)}\")\n",
    "print(f\"boy vs girl similarity: {boy.path_similarity(girl)}\")\n",
    "print(f\"boy vs woman similarity: {boy.path_similarity(woman)}\")\n",
    "print(f\"girl vs woman similarity: {girl.path_similarity(woman)}\")"
   ]
  },
  {
   "cell_type": "code",
   "execution_count": null,
   "metadata": {},
   "outputs": [],
   "source": []
  }
 ],
 "metadata": {
  "kernelspec": {
   "display_name": "Python 3",
   "language": "python",
   "name": "python3"
  },
  "language_info": {
   "codemirror_mode": {
    "name": "ipython",
    "version": 3
   },
   "file_extension": ".py",
   "mimetype": "text/x-python",
   "name": "python",
   "nbconvert_exporter": "python",
   "pygments_lexer": "ipython3",
   "version": "3.8.11"
  },
  "orig_nbformat": 4
 },
 "nbformat": 4,
 "nbformat_minor": 2
}
