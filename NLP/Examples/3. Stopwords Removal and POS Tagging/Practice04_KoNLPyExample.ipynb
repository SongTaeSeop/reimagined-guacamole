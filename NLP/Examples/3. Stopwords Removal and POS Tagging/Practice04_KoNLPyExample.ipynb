{
 "cells": [
  {
   "cell_type": "code",
   "execution_count": 2,
   "metadata": {},
   "outputs": [
    {
     "name": "stdout",
     "output_type": "stream",
     "text": [
      "Requirement already satisfied: konlpy in /home/user/.local/lib/python3.8/site-packages (0.6.0)\n",
      "Requirement already satisfied: JPype1>=0.7.0 in /home/user/.local/lib/python3.8/site-packages (from konlpy) (1.4.1)\n",
      "Requirement already satisfied: lxml>=4.1.0 in /home/user/.local/lib/python3.8/site-packages (from konlpy) (4.9.2)\n",
      "Requirement already satisfied: numpy>=1.6 in /home/user/.local/lib/python3.8/site-packages (from konlpy) (1.24.4)\n",
      "Requirement already satisfied: packaging in /home/user/.local/lib/python3.8/site-packages (from JPype1>=0.7.0->konlpy) (23.1)\n"
     ]
    }
   ],
   "source": [
    "!pip install konlpy\n",
    "\n",
    "# konlpy 관련 패키지 import\n",
    "from konlpy.tag import Okt, Kkma, Komoran\n",
    "\n",
    "okt = Okt()\n",
    "kkma = Kkma()\n",
    "komoran = Komoran()"
   ]
  },
  {
   "cell_type": "code",
   "execution_count": 3,
   "metadata": {},
   "outputs": [
    {
     "name": "stdout",
     "output_type": "stream",
     "text": [
      "kkma 문장 분리 :  ['네 안녕하세요', '반갑습니다.']\n",
      "okt 형태소 분석 : ['집', '에', '가면', '감자', '좀', '쪄줄래', '?']\n",
      "kkma 형태소 분석 :  ['집', '에', '가', '면', '감자', '좀', '찌', '어', '주', 'ㄹ래', '?']\n",
      "komoran 형태소 분석 :  ['집', '에', '가', '면', '감자', '좀', '찌', '어', '주', 'ㄹ래', '?']\n",
      "okt 품사태깅 : [('집', 'Noun'), ('에', 'Josa'), ('가면', 'Noun'), ('감자', 'Noun'), ('좀', 'Noun'), ('쪄줄래', 'Verb'), ('?', 'Punctuation')]\n",
      "kkma 품사태깅 :  [('집', 'NNG'), ('에', 'JKM'), ('가', 'VV'), ('면', 'ECE'), ('감자', 'NNG'), ('좀', 'MAG'), ('찌', 'VV'), ('어', 'ECS'), ('주', 'VXV'), ('ㄹ래', 'EFQ'), ('?', 'SF')]\n",
      "komoran 품사태깅 :  [('집', 'NNG'), ('에', 'JKB'), ('가', 'VV'), ('면', 'EC'), ('감자', 'NNP'), ('좀', 'MAG'), ('찌', 'VV'), ('어', 'EC'), ('주', 'VX'), ('ㄹ래', 'EF'), ('?', 'SF')]\n",
      "okt : [('아빠', 'Noun'), ('가방', 'Noun'), ('에', 'Josa'), ('들어가신다', 'Verb')]\n",
      "kkma :  [('아빠', 'NNG'), ('가방', 'NNG'), ('에', 'JKM'), ('들어가', 'VV'), ('시', 'EPH'), ('ㄴ다', 'EFN')]\n",
      "komoran :  [('아빠', 'NNP'), ('가방', 'NNP'), ('에', 'JKB'), ('들어가', 'VV'), ('시', 'EP'), ('ㄴ다', 'EC')]\n",
      "okt : [('오늘', 'Noun'), ('뭐햇', 'Noun'), ('니', 'Josa'), ('?', 'Punctuation'), ('나', 'Noun'), ('는', 'Josa'), ('우', 'Adverb'), ('너', 'Noun'), ('하던', 'Verb'), ('일', 'Noun'), ('을', 'Josa'), ('했어', 'Verb'), ('!', 'Punctuation')]\n",
      "kkma :  [('오늘', 'NNG'), ('뭐', 'NP'), ('하', 'VV'), ('였', 'EPT'), ('니', 'EFQ'), ('?', 'SF'), ('나', 'NP'), ('는', 'JX'), ('우', 'NNG'), ('느', 'VV'), ('어', 'ECS'), ('하', 'VV'), ('더', 'EPT'), ('ㄴ', 'ETD'), ('일', 'NNG'), ('을', 'JKO'), ('하', 'VV'), ('었', 'EPT'), ('어', 'EFN'), ('!', 'SF')]\n",
      "komoran :  [('오늘', 'NNG'), ('뭐', 'NP'), ('해', 'NNG'), ('이', 'VCP'), ('니', 'EF'), ('?', 'SF'), ('나', 'NP'), ('는', 'JX'), ('우', 'NNP'), ('너', 'NP'), ('하', 'XSA'), ('던', 'ETM'), ('일', 'NNG'), ('을', 'JKO'), ('하', 'VV'), ('았', 'EP'), ('어', 'EF'), ('!', 'SF')]\n"
     ]
    }
   ],
   "source": [
    "# konlpy 중 Kkma는 문장 분리가 가능 (다른 라이브러리는 되지 않음)\n",
    "print (\"kkma 문장 분리 : \", kkma.sentences('네 안녕하세요 반갑습니다.'))\n",
    "\n",
    "# konlpy 의 라이브러리 형태소 분석 비교\n",
    "print(\"okt 형태소 분석 :\", okt.morphs(u\"집에 가면 감자 좀 쪄줄래?\"))\n",
    "print(\"kkma 형태소 분석 : \", kkma.morphs(u\"집에 가면 감자 좀 쪄줄래?\"))\n",
    "print(\"komoran 형태소 분석 : \", komoran.morphs(u\"집에 가면 감자 좀 쪄줄래?\"))\n",
    "\n",
    "# konlpy 의 라이브러리 품사태깅 비교\n",
    "print(\"okt 품사태깅 :\", okt.pos(u\"집에 가면 감자 좀 쪄줄래?\"))\n",
    "print(\"kkma 품사태깅 : \", kkma.pos(u\"집에 가면 감자 좀 쪄줄래?\"))\n",
    "print(\"komoran 품사태깅 : \", komoran.pos(u\"집에 가면 감자 좀 쪄줄래?\"))\n",
    "\n",
    "# 띄어쓰기가 안된 문장\n",
    "sample = \"아빠가방에들어가신다\"\n",
    "print(\"okt :\", okt.pos(sample))\n",
    "print(\"kkma : \", kkma.pos(sample))\n",
    "print(\"komoran : \", komoran.pos(sample))\n",
    "\n",
    "# 오타가 있는 문장\n",
    "sample = \"오늘 뭐햇니? 나는 우너하던 일을 했어!\"\n",
    "print(\"okt :\", okt.pos(sample))\n",
    "print(\"kkma : \", kkma.pos(sample))\n",
    "print(\"komoran : \", komoran.pos(sample))\n"
   ]
  },
  {
   "cell_type": "code",
   "execution_count": null,
   "metadata": {},
   "outputs": [],
   "source": []
  }
 ],
 "metadata": {
  "kernelspec": {
   "display_name": "Python 3",
   "language": "python",
   "name": "python3"
  },
  "language_info": {
   "codemirror_mode": {
    "name": "ipython",
    "version": 3
   },
   "file_extension": ".py",
   "mimetype": "text/x-python",
   "name": "python",
   "nbconvert_exporter": "python",
   "pygments_lexer": "ipython3",
   "version": "3.8.11"
  },
  "orig_nbformat": 4
 },
 "nbformat": 4,
 "nbformat_minor": 2
}
